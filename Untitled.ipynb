{
 "cells": [
  {
   "cell_type": "code",
   "execution_count": 1,
   "metadata": {},
   "outputs": [
    {
     "name": "stdout",
     "output_type": "stream",
     "text": [
      "22\n",
      "20\n",
      "22\n"
     ]
    }
   ],
   "source": [
    "class Thermostat():\n",
    "    def __init__(self, temp):\n",
    "        self.temp = temp\n",
    "        \n",
    "t = Thermostat(22)\n",
    "print(t.temp)\n",
    "t.temp = 20\n",
    "print(t.temp)\n",
    "t.temp = 22\n",
    "print(t.temp)"
   ]
  },
  {
   "cell_type": "code",
   "execution_count": 7,
   "metadata": {},
   "outputs": [
    {
     "name": "stdout",
     "output_type": "stream",
     "text": [
      "Now in temp's getter\n",
      "22\n",
      "Now in temp's setter\n",
      "Now in temp's getter\n",
      "20\n",
      "Now in temp's setter\n",
      "Now in temp's getter\n",
      "22\n"
     ]
    }
   ],
   "source": [
    "class Thermostat():\n",
    "    def __init__(self, temp):\n",
    "        self._temp = temp\n",
    "        \n",
    "    @property\n",
    "    def temp(self):\n",
    "        print(\"Now in temp's getter\")\n",
    "        return self._temp\n",
    "    \n",
    "    @temp.setter\n",
    "    def temp(self, new_temp):\n",
    "        print(\"Now in temp's setter\")\n",
    "        if new_temp < 10:\n",
    "            raise ValueError(\"Too low!\")\n",
    "        elif new_temp > 35:\n",
    "            raise ValueError(\"Too high!\")\n",
    "        else:\n",
    "            self._temp = new_temp\n",
    "        \n",
    "t = Thermostat(22)\n",
    "print(t.temp)\n",
    "t.temp = 20\n",
    "print(t.temp)\n",
    "t.temp = 22\n",
    "print(t.temp)"
   ]
  },
  {
   "cell_type": "code",
   "execution_count": 5,
   "metadata": {},
   "outputs": [
    {
     "data": {
      "text/plain": [
       "property"
      ]
     },
     "execution_count": 5,
     "metadata": {},
     "output_type": "execute_result"
    }
   ],
   "source": [
    "type(Thermostat.temp)"
   ]
  },
  {
   "cell_type": "code",
   "execution_count": null,
   "metadata": {},
   "outputs": [],
   "source": []
  }
 ],
 "metadata": {
  "kernelspec": {
   "display_name": "Python 3",
   "language": "python",
   "name": "python3"
  },
  "language_info": {
   "codemirror_mode": {
    "name": "ipython",
    "version": 3
   },
   "file_extension": ".py",
   "mimetype": "text/x-python",
   "name": "python",
   "nbconvert_exporter": "python",
   "pygments_lexer": "ipython3",
   "version": "3.7.4"
  }
 },
 "nbformat": 4,
 "nbformat_minor": 2
}
